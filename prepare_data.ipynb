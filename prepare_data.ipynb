{
 "cells": [
  {
   "cell_type": "markdown",
   "metadata": {},
   "source": [
    "# Process ImageNet"
   ]
  },
  {
   "cell_type": "code",
   "execution_count": 1,
   "metadata": {},
   "outputs": [],
   "source": [
    "import json\n",
    "import random\n",
    "\n",
    "data = [json.loads(line) for line in open(\"/pasteur/u/yuhuiz/data/ImageNet/imagenet/train.jsonl\")]\n",
    "random.seed(1234)\n",
    "random.shuffle(data)\n",
    "\n",
    "new_data = []\n",
    "for idx, item in enumerate(data):\n",
    "    new_item = {\n",
    "        \"image_id\": f'{idx}-{item[\"label_idx\"]}-{item[\"label\"]}',\n",
    "        \"image\": item[\"image\"],\n",
    "        \"caption\": f'{item[\"label\"]}'\n",
    "    }\n",
    "    new_data.append(new_item)\n",
    "json.dump(new_data, open(\"imagenet_lavis_train.json\", \"w\"), indent=2)"
   ]
  },
  {
   "cell_type": "code",
   "execution_count": 2,
   "metadata": {},
   "outputs": [],
   "source": [
    "import json\n",
    "import random\n",
    "\n",
    "data = [json.loads(line) for line in open(\"/pasteur/u/yuhuiz/data/ImageNet/imagenet/val.jsonl\")]\n",
    "random.seed(1234)\n",
    "random.shuffle(data)\n",
    "\n",
    "new_data = []\n",
    "for idx, item in enumerate(data):\n",
    "    new_item = {\n",
    "        \"image_id\": f'{idx}-{item[\"label_idx\"]}-{item[\"label\"]}',\n",
    "        \"image\": item[\"image\"],\n",
    "        \"caption\": [\n",
    "            f'{item[\"label\"]}'\n",
    "        ]\n",
    "    }\n",
    "    new_data.append(new_item)\n",
    "json.dump(new_data, open(\"imagenet_lavis_val.json\", \"w\"), indent=2)"
   ]
  },
  {
   "cell_type": "code",
   "execution_count": null,
   "metadata": {},
   "outputs": [],
   "source": []
  }
 ],
 "metadata": {
  "kernelspec": {
   "display_name": "py310",
   "language": "python",
   "name": "python3"
  },
  "language_info": {
   "codemirror_mode": {
    "name": "ipython",
    "version": 3
   },
   "file_extension": ".py",
   "mimetype": "text/x-python",
   "name": "python",
   "nbconvert_exporter": "python",
   "pygments_lexer": "ipython3",
   "version": "3.10.14"
  }
 },
 "nbformat": 4,
 "nbformat_minor": 2
}
